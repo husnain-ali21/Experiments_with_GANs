{
  "nbformat": 4,
  "nbformat_minor": 0,
  "metadata": {
    "colab": {
      "name": "Data Set and Data Loader for crohme.ipynb",
      "provenance": [],
      "collapsed_sections": [],
      "mount_file_id": "1DZhLUAIEvLPoI406787c6YCjDmgJiXx9",
      "authorship_tag": "ABX9TyOYQPAbOtfatv9aWITM2TcN"
    },
    "kernelspec": {
      "name": "python3",
      "display_name": "Python 3"
    },
    "language_info": {
      "name": "python"
    }
  },
  "cells": [
    {
      "cell_type": "code",
      "metadata": {
        "colab": {
          "base_uri": "https://localhost:8080/"
        },
        "id": "iDyPx2peGXJk",
        "outputId": "445c6905-9430-44ce-d4f6-7ce3cc7d2a1b"
      },
      "source": [
        "%cd \"/content/drive/MyDrive/Project image 2 latex/crohme/HDF5\""
      ],
      "execution_count": 1,
      "outputs": [
        {
          "output_type": "stream",
          "text": [
            "/content/drive/MyDrive/Project image 2 latex/crohme/HDF5\n"
          ],
          "name": "stdout"
        }
      ]
    },
    {
      "cell_type": "code",
      "metadata": {
        "colab": {
          "base_uri": "https://localhost:8080/"
        },
        "id": "DpR8c67yIIzX",
        "outputId": "07d22b2a-d2b8-49f9-b589-27dfbf07eab5"
      },
      "source": [
        "%ls"
      ],
      "execution_count": 2,
      "outputs": [
        {
          "output_type": "stream",
          "text": [
            "all_latexes_encodedTEST_CROHME_dataset.json\n",
            "all_latexes_encodedTRAIN_CROHME_dataset.json\n",
            "all_latexes_encodedVAL_CROHME_dataset.json\n",
            "all_latexes_TEST_CROHME_dataset.json\n",
            "all_latexes_TRAIN_CROHME_dataset.json\n",
            "all_latexes_VAL_CROHME_dataset.json\n",
            "all__latex_strings.txt\n",
            "all_stringd.txt\n",
            "tokens.tsv\n",
            "Vocabulary_CROHME_dataset.json\n"
          ],
          "name": "stdout"
        }
      ]
    },
    {
      "cell_type": "code",
      "metadata": {
        "id": "s4gMSW0MPTtj"
      },
      "source": [
        "from torch.utils.data import DataLoader,Dataset\n",
        "from torch import nn\n",
        "import json\n",
        "from torchvision import transforms"
      ],
      "execution_count": 15,
      "outputs": []
    },
    {
      "cell_type": "code",
      "metadata": {
        "id": "acB3LiIGIJoN"
      },
      "source": [
        "# lets try resizing first as it can be efficient in batching\n",
        "\n",
        "class Crohme(Dataset):\n",
        "  def __init__(self ,transforms,extension = \".inkml.png\",split=None ):\n",
        "    super(Crohme,self).__init__()\n",
        "    assert split in {\"TRAIN\" , \"VAL\" , \"TEST\"} , \"split is not right\"\n",
        "\n",
        "    with open(f\"./all_latexes_encoded{split}_CROHME_dataset.json\") as f :\n",
        "      encoded_latexes = json.load(f)\n",
        "\n",
        "    self.encoded_latexes = encoded_latexes\n",
        "    self.image_names = [key for key,_ in self.encoded_latexes.items()]\n",
        "    self.extension = extension\n",
        "    self.len = len(self.encoded_latexes)\n",
        "    self.transforms = transforms\n",
        "\n",
        "     \n",
        "  def __len__(self):\n",
        "        return self.len\n",
        "\n",
        "  def __getitem__(self ,index):\n",
        "        item = self.image_names[index] + self.extension\n",
        "        image = Image.open(item)\n",
        "        # Remove alpha channel\n",
        "        image = image.convert(\"RGB\")\n",
        "        if self.transform:\n",
        "            image = self.transform(image)\n",
        "\n",
        "        #return  {\"name\":item , \"encoded_latex\": encoded_latexes[image_names[index]], \"image\": image}\n",
        "        return {\"image\" :image ,\"encoded_latex\": self.encoded_latexes[self.image_names[index]] } \n",
        "\n",
        "\n",
        "\n",
        "\n"
      ],
      "execution_count": 32,
      "outputs": []
    },
    {
      "cell_type": "code",
      "metadata": {
        "id": "R7QqtHzLOm8K"
      },
      "source": [
        "with open(\"/content/drive/MyDrive/Project image 2 latex/crohme/HDF5/Vocabulary_CROHME_dataset.json\") as v :\n",
        "  vocabulary = json.load(v)"
      ],
      "execution_count": 17,
      "outputs": []
    },
    {
      "cell_type": "code",
      "metadata": {
        "colab": {
          "base_uri": "https://localhost:8080/"
        },
        "id": "ODPRm83nTTvl",
        "outputId": "37e88f6d-af7f-4243-daac-44d21ab97d42"
      },
      "source": [
        "vocabulary[\"<pad>\"]"
      ],
      "execution_count": 18,
      "outputs": [
        {
          "output_type": "execute_result",
          "data": {
            "text/plain": [
              "117"
            ]
          },
          "metadata": {
            "tags": []
          },
          "execution_count": 18
        }
      ]
    },
    {
      "cell_type": "code",
      "metadata": {
        "id": "HUCPL5rBO-_s"
      },
      "source": [
        "def collate_batch(data):\n",
        "    max_len = max([len(d[\"encoded_latex\"]) for d in data])\n",
        "    # Padding with 117 as vocabulary[<pad>] = 117\n",
        "    padded_encoded = [\n",
        "        d[\"encoded_latex\"] + (max_len - len(d[\"encoded_latex\"])) * [117]\n",
        "        for d in data\n",
        "    ]\n",
        "    \n",
        "    return {\n",
        "        \"images\": torch.stack([d[\"image\"] for d in data], dim=0),\n",
        "          \"encoded_latexes\": torch.tensor(padded_encoded),\n",
        "        }\n",
        "    "
      ],
      "execution_count": 33,
      "outputs": []
    },
    {
      "cell_type": "code",
      "metadata": {
        "id": "B7C0_7CKQRfU"
      },
      "source": [
        "transformations = transforms.Compose([\n",
        "                                 transforms.ToTensor() ,\n",
        "                                 transforms.Resize((100,500)  ,\n",
        "                                  transforms.Normalize((0.5,0.5,0.5) , (0.5,0.5,0.5)))\n",
        "])\n",
        "\n",
        "Crohme_training_dataset = Crohme(transformations , split =\"TRAIN\")\n",
        "dataloader = DataLoader(Crohme_training_dataset ,batch_size=32 ,shuffle=True , collate_fn =collate_batch)"
      ],
      "execution_count": 34,
      "outputs": []
    },
    {
      "cell_type": "code",
      "metadata": {
        "id": "_sSXcUudQTb9"
      },
      "source": [
        ""
      ],
      "execution_count": null,
      "outputs": []
    }
  ]
}